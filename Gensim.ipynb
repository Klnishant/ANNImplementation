{
  "nbformat": 4,
  "nbformat_minor": 0,
  "metadata": {
    "colab": {
      "provenance": [],
      "authorship_tag": "ABX9TyP2QZaDKZi5cFqqfecuSTJz",
      "include_colab_link": true
    },
    "kernelspec": {
      "name": "python3",
      "display_name": "Python 3"
    },
    "language_info": {
      "name": "python"
    }
  },
  "cells": [
    {
      "cell_type": "markdown",
      "metadata": {
        "id": "view-in-github",
        "colab_type": "text"
      },
      "source": [
        "<a href=\"https://colab.research.google.com/github/Klnishant/ANNImplementation/blob/main/Gensim.ipynb\" target=\"_parent\"><img src=\"https://colab.research.google.com/assets/colab-badge.svg\" alt=\"Open In Colab\"/></a>"
      ]
    },
    {
      "cell_type": "code",
      "execution_count": 1,
      "metadata": {
        "id": "bWdA9A0RSDOv"
      },
      "outputs": [],
      "source": [
        "from gensim.models import Word2Vec\n",
        "from nltk.tokenize import word_tokenize\n",
        "import nltk"
      ]
    },
    {
      "cell_type": "code",
      "source": [
        "nltk.download('punkt')"
      ],
      "metadata": {
        "colab": {
          "base_uri": "https://localhost:8080/"
        },
        "id": "_4v2Pv_pSXG7",
        "outputId": "921539a2-64ed-4f4a-d994-2d415f983321"
      },
      "execution_count": 2,
      "outputs": [
        {
          "output_type": "stream",
          "name": "stderr",
          "text": [
            "[nltk_data] Downloading package punkt to /root/nltk_data...\n",
            "[nltk_data]   Unzipping tokenizers/punkt.zip.\n"
          ]
        },
        {
          "output_type": "execute_result",
          "data": {
            "text/plain": [
              "True"
            ]
          },
          "metadata": {},
          "execution_count": 2
        }
      ]
    },
    {
      "cell_type": "code",
      "source": [
        "corpus = [\n",
        "    \"Word embeddings are dense vector representations of words.\",\n",
        "    \"They are used in many natural language processing applications.\",\n",
        "    \"Word2Vec is a popular algorithm for generating word embeddings.\"\n",
        "]"
      ],
      "metadata": {
        "id": "YBTDxSqOSd5y"
      },
      "execution_count": 3,
      "outputs": []
    },
    {
      "cell_type": "code",
      "source": [
        "tokenized_corpus = [word_tokenize(sentence) for sentence in corpus]"
      ],
      "metadata": {
        "id": "5xKuna8USnIz"
      },
      "execution_count": 4,
      "outputs": []
    },
    {
      "cell_type": "code",
      "source": [
        "model = Word2Vec(tokenized_corpus, min_count=1, vector_size=100, window=5, sg=1)"
      ],
      "metadata": {
        "id": "IvE21_4TS0Hk"
      },
      "execution_count": 5,
      "outputs": []
    },
    {
      "cell_type": "code",
      "source": [
        "model.save(\"word2vec.model\")"
      ],
      "metadata": {
        "id": "xUhXSkjSTJro"
      },
      "execution_count": 6,
      "outputs": []
    },
    {
      "cell_type": "code",
      "source": [
        "loaded_model = Word2Vec.load(\"word2vec.model\")"
      ],
      "metadata": {
        "id": "o2mIPupzTP5X"
      },
      "execution_count": 8,
      "outputs": []
    },
    {
      "cell_type": "code",
      "source": [
        "most_similar_words = loaded_model.wv.most_similar(\"word\", topn=5)\n",
        "print(most_similar_words)"
      ],
      "metadata": {
        "colab": {
          "base_uri": "https://localhost:8080/"
        },
        "id": "KBpLjfPTTbdw",
        "outputId": "3baaa61d-2016-4e91-e02b-cacbcd746f73"
      },
      "execution_count": 9,
      "outputs": [
        {
          "output_type": "stream",
          "name": "stdout",
          "text": [
            "[('natural', 0.17826788127422333), ('dense', 0.13149002194404602), ('of', 0.07493969798088074), ('embeddings', 0.06797593086957932), ('Word', 0.04823844134807587)]\n"
          ]
        }
      ]
    },
    {
      "cell_type": "code",
      "source": [],
      "metadata": {
        "id": "VMLMI7NWT4QM"
      },
      "execution_count": null,
      "outputs": []
    }
  ]
}