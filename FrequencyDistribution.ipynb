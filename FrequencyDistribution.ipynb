{
  "nbformat": 4,
  "nbformat_minor": 0,
  "metadata": {
    "colab": {
      "provenance": [],
      "authorship_tag": "ABX9TyMpP2o8bRAJ7z3CRLyxknVq",
      "include_colab_link": true
    },
    "kernelspec": {
      "name": "python3",
      "display_name": "Python 3"
    },
    "language_info": {
      "name": "python"
    }
  },
  "cells": [
    {
      "cell_type": "markdown",
      "metadata": {
        "id": "view-in-github",
        "colab_type": "text"
      },
      "source": [
        "<a href=\"https://colab.research.google.com/github/Klnishant/ANNImplementation/blob/main/FrequencyDistribution.ipynb\" target=\"_parent\"><img src=\"https://colab.research.google.com/assets/colab-badge.svg\" alt=\"Open In Colab\"/></a>"
      ]
    },
    {
      "cell_type": "code",
      "execution_count": 3,
      "metadata": {
        "id": "O6_H-9NM2xYS"
      },
      "outputs": [],
      "source": [
        "from collections import Counter"
      ]
    },
    {
      "cell_type": "code",
      "source": [
        "text = \"This is a sample text. It contains some words. This text is used for frequency distribution example.\""
      ],
      "metadata": {
        "id": "bNgsusJo268H"
      },
      "execution_count": 4,
      "outputs": []
    },
    {
      "cell_type": "code",
      "source": [
        "print(\"Tokenizetion of text\")\n",
        "words = text.split()\n",
        "print(words)"
      ],
      "metadata": {
        "colab": {
          "base_uri": "https://localhost:8080/"
        },
        "id": "RK2pNSBD3NmH",
        "outputId": "bafef953-8966-47ec-975f-c0e7e1bf95ad"
      },
      "execution_count": 5,
      "outputs": [
        {
          "output_type": "stream",
          "name": "stdout",
          "text": [
            "Tokenizetion of text\n",
            "['This', 'is', 'a', 'sample', 'text.', 'It', 'contains', 'some', 'words.', 'This', 'text', 'is', 'used', 'for', 'frequency', 'distribution', 'example.']\n"
          ]
        }
      ]
    },
    {
      "cell_type": "code",
      "source": [
        "print(\"frequency distribution of words\")\n",
        "freq = Counter(words)\n",
        "print(freq)"
      ],
      "metadata": {
        "colab": {
          "base_uri": "https://localhost:8080/"
        },
        "id": "gg1rXwnF3aho",
        "outputId": "bfcd8615-6080-4f46-c11d-eebfe3acf6dd"
      },
      "execution_count": 6,
      "outputs": [
        {
          "output_type": "stream",
          "name": "stdout",
          "text": [
            "frequency distribution of words\n",
            "Counter({'This': 2, 'is': 2, 'a': 1, 'sample': 1, 'text.': 1, 'It': 1, 'contains': 1, 'some': 1, 'words.': 1, 'text': 1, 'used': 1, 'for': 1, 'frequency': 1, 'distribution': 1, 'example.': 1})\n"
          ]
        }
      ]
    },
    {
      "cell_type": "code",
      "source": [
        "print(\"Displaying the frequency distribution\")\n",
        "print(\"Word\\t\\tFrequency\")\n",
        "for word, frequency in freq.items():\n",
        "  print(f\"{word}\\t\\t{frequency}\")"
      ],
      "metadata": {
        "colab": {
          "base_uri": "https://localhost:8080/"
        },
        "id": "hUg10OsN3pay",
        "outputId": "64266dcd-9476-43e9-e810-8acca329c5a1"
      },
      "execution_count": 7,
      "outputs": [
        {
          "output_type": "stream",
          "name": "stdout",
          "text": [
            "Displaying the frequency distribution\n",
            "Word\t\tFrequency\n",
            "This\t\t2\n",
            "is\t\t2\n",
            "a\t\t1\n",
            "sample\t\t1\n",
            "text.\t\t1\n",
            "It\t\t1\n",
            "contains\t\t1\n",
            "some\t\t1\n",
            "words.\t\t1\n",
            "text\t\t1\n",
            "used\t\t1\n",
            "for\t\t1\n",
            "frequency\t\t1\n",
            "distribution\t\t1\n",
            "example.\t\t1\n"
          ]
        }
      ]
    },
    {
      "cell_type": "code",
      "source": [],
      "metadata": {
        "id": "BcGsbjWk4ZMx"
      },
      "execution_count": null,
      "outputs": []
    }
  ]
}