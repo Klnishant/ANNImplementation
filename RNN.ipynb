{
  "nbformat": 4,
  "nbformat_minor": 0,
  "metadata": {
    "colab": {
      "provenance": [],
      "authorship_tag": "ABX9TyPTee1SHuqqiwLoYGdWzMYe",
      "include_colab_link": true
    },
    "kernelspec": {
      "name": "python3",
      "display_name": "Python 3"
    },
    "language_info": {
      "name": "python"
    }
  },
  "cells": [
    {
      "cell_type": "markdown",
      "metadata": {
        "id": "view-in-github",
        "colab_type": "text"
      },
      "source": [
        "<a href=\"https://colab.research.google.com/github/Klnishant/ANNImplementation/blob/main/RNN.ipynb\" target=\"_parent\"><img src=\"https://colab.research.google.com/assets/colab-badge.svg\" alt=\"Open In Colab\"/></a>"
      ]
    },
    {
      "cell_type": "code",
      "execution_count": 1,
      "metadata": {
        "id": "u8T1scqcDnH0"
      },
      "outputs": [],
      "source": [
        "import torch\n",
        "import torch.nn as nn\n",
        "\n",
        "class SimpleRNN(nn.Module):\n",
        "  def __init__(self, input_size, hidden_size, num_layers):\n",
        "    super(SimpleRNN, self).__init__()\n",
        "    self.rnn = nn.RNN(input_size,hidden_size,num_layers,batch_first=True)\n",
        "\n",
        "  def forward(self,x):\n",
        "    out,_ = self.rnn(x)\n",
        "    return out"
      ]
    },
    {
      "cell_type": "code",
      "source": [
        "input_size = 10\n",
        "hidden_size =20\n",
        "num_layers =2\n",
        "model = SimpleRNN(input_size,hidden_size,num_layers)"
      ],
      "metadata": {
        "id": "H-c21WsbFKvy"
      },
      "execution_count": 2,
      "outputs": []
    },
    {
      "cell_type": "code",
      "source": [
        "sequence = torch.randn(5,3,input_size)\n",
        "target = torch.randn(5,3,hidden_size)\n",
        "\n",
        "criterion = nn.MSELoss()\n",
        "optimizer = torch.optim.SGD(model.parameters(),lr=0.01)"
      ],
      "metadata": {
        "id": "6vift96PFfEm"
      },
      "execution_count": 3,
      "outputs": []
    },
    {
      "cell_type": "code",
      "source": [
        "epochs = 100\n",
        "for epoch in range(epochs):\n",
        "  optimizer.zero_grad()\n",
        "  output = model(sequence)\n",
        "  loss = criterion(output,target)\n",
        "  loss.backward()\n",
        "  optimizer.step()\n",
        "  print(f\"Epoch [{epoch+1}/{epochs}]  Loss: {loss.item():.4f}\")"
      ],
      "metadata": {
        "colab": {
          "base_uri": "https://localhost:8080/"
        },
        "id": "IC3vD6QkGPZx",
        "outputId": "825f621c-65e5-4edc-9f12-47e322db16d0"
      },
      "execution_count": 4,
      "outputs": [
        {
          "output_type": "stream",
          "name": "stdout",
          "text": [
            "Epoch [1/100]  Loss: 0.9977\n",
            "Epoch [2/100]  Loss: 0.9954\n",
            "Epoch [3/100]  Loss: 0.9931\n",
            "Epoch [4/100]  Loss: 0.9907\n",
            "Epoch [5/100]  Loss: 0.9884\n",
            "Epoch [6/100]  Loss: 0.9861\n",
            "Epoch [7/100]  Loss: 0.9839\n",
            "Epoch [8/100]  Loss: 0.9816\n",
            "Epoch [9/100]  Loss: 0.9794\n",
            "Epoch [10/100]  Loss: 0.9771\n",
            "Epoch [11/100]  Loss: 0.9749\n",
            "Epoch [12/100]  Loss: 0.9727\n",
            "Epoch [13/100]  Loss: 0.9706\n",
            "Epoch [14/100]  Loss: 0.9684\n",
            "Epoch [15/100]  Loss: 0.9662\n",
            "Epoch [16/100]  Loss: 0.9641\n",
            "Epoch [17/100]  Loss: 0.9620\n",
            "Epoch [18/100]  Loss: 0.9599\n",
            "Epoch [19/100]  Loss: 0.9578\n",
            "Epoch [20/100]  Loss: 0.9557\n",
            "Epoch [21/100]  Loss: 0.9537\n",
            "Epoch [22/100]  Loss: 0.9516\n",
            "Epoch [23/100]  Loss: 0.9496\n",
            "Epoch [24/100]  Loss: 0.9476\n",
            "Epoch [25/100]  Loss: 0.9456\n",
            "Epoch [26/100]  Loss: 0.9437\n",
            "Epoch [27/100]  Loss: 0.9417\n",
            "Epoch [28/100]  Loss: 0.9398\n",
            "Epoch [29/100]  Loss: 0.9378\n",
            "Epoch [30/100]  Loss: 0.9359\n",
            "Epoch [31/100]  Loss: 0.9340\n",
            "Epoch [32/100]  Loss: 0.9321\n",
            "Epoch [33/100]  Loss: 0.9303\n",
            "Epoch [34/100]  Loss: 0.9284\n",
            "Epoch [35/100]  Loss: 0.9266\n",
            "Epoch [36/100]  Loss: 0.9248\n",
            "Epoch [37/100]  Loss: 0.9230\n",
            "Epoch [38/100]  Loss: 0.9212\n",
            "Epoch [39/100]  Loss: 0.9194\n",
            "Epoch [40/100]  Loss: 0.9176\n",
            "Epoch [41/100]  Loss: 0.9159\n",
            "Epoch [42/100]  Loss: 0.9142\n",
            "Epoch [43/100]  Loss: 0.9124\n",
            "Epoch [44/100]  Loss: 0.9107\n",
            "Epoch [45/100]  Loss: 0.9091\n",
            "Epoch [46/100]  Loss: 0.9074\n",
            "Epoch [47/100]  Loss: 0.9057\n",
            "Epoch [48/100]  Loss: 0.9041\n",
            "Epoch [49/100]  Loss: 0.9024\n",
            "Epoch [50/100]  Loss: 0.9008\n",
            "Epoch [51/100]  Loss: 0.8992\n",
            "Epoch [52/100]  Loss: 0.8976\n",
            "Epoch [53/100]  Loss: 0.8960\n",
            "Epoch [54/100]  Loss: 0.8945\n",
            "Epoch [55/100]  Loss: 0.8929\n",
            "Epoch [56/100]  Loss: 0.8914\n",
            "Epoch [57/100]  Loss: 0.8899\n",
            "Epoch [58/100]  Loss: 0.8883\n",
            "Epoch [59/100]  Loss: 0.8868\n",
            "Epoch [60/100]  Loss: 0.8853\n",
            "Epoch [61/100]  Loss: 0.8839\n",
            "Epoch [62/100]  Loss: 0.8824\n",
            "Epoch [63/100]  Loss: 0.8809\n",
            "Epoch [64/100]  Loss: 0.8795\n",
            "Epoch [65/100]  Loss: 0.8781\n",
            "Epoch [66/100]  Loss: 0.8766\n",
            "Epoch [67/100]  Loss: 0.8752\n",
            "Epoch [68/100]  Loss: 0.8738\n",
            "Epoch [69/100]  Loss: 0.8724\n",
            "Epoch [70/100]  Loss: 0.8711\n",
            "Epoch [71/100]  Loss: 0.8697\n",
            "Epoch [72/100]  Loss: 0.8684\n",
            "Epoch [73/100]  Loss: 0.8670\n",
            "Epoch [74/100]  Loss: 0.8657\n",
            "Epoch [75/100]  Loss: 0.8643\n",
            "Epoch [76/100]  Loss: 0.8630\n",
            "Epoch [77/100]  Loss: 0.8617\n",
            "Epoch [78/100]  Loss: 0.8604\n",
            "Epoch [79/100]  Loss: 0.8592\n",
            "Epoch [80/100]  Loss: 0.8579\n",
            "Epoch [81/100]  Loss: 0.8566\n",
            "Epoch [82/100]  Loss: 0.8554\n",
            "Epoch [83/100]  Loss: 0.8541\n",
            "Epoch [84/100]  Loss: 0.8529\n",
            "Epoch [85/100]  Loss: 0.8516\n",
            "Epoch [86/100]  Loss: 0.8504\n",
            "Epoch [87/100]  Loss: 0.8492\n",
            "Epoch [88/100]  Loss: 0.8480\n",
            "Epoch [89/100]  Loss: 0.8468\n",
            "Epoch [90/100]  Loss: 0.8456\n",
            "Epoch [91/100]  Loss: 0.8445\n",
            "Epoch [92/100]  Loss: 0.8433\n",
            "Epoch [93/100]  Loss: 0.8421\n",
            "Epoch [94/100]  Loss: 0.8410\n",
            "Epoch [95/100]  Loss: 0.8398\n",
            "Epoch [96/100]  Loss: 0.8387\n",
            "Epoch [97/100]  Loss: 0.8376\n",
            "Epoch [98/100]  Loss: 0.8365\n",
            "Epoch [99/100]  Loss: 0.8353\n",
            "Epoch [100/100]  Loss: 0.8342\n"
          ]
        }
      ]
    },
    {
      "cell_type": "code",
      "source": [],
      "metadata": {
        "id": "7vrJd2C1Ha-D"
      },
      "execution_count": null,
      "outputs": []
    }
  ]
}