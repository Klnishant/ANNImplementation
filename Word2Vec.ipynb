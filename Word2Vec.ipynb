{
  "nbformat": 4,
  "nbformat_minor": 0,
  "metadata": {
    "colab": {
      "provenance": [],
      "authorship_tag": "ABX9TyNMiKiZvrJb0+bXbEjPgFqr",
      "include_colab_link": true
    },
    "kernelspec": {
      "name": "python3",
      "display_name": "Python 3"
    },
    "language_info": {
      "name": "python"
    }
  },
  "cells": [
    {
      "cell_type": "markdown",
      "metadata": {
        "id": "view-in-github",
        "colab_type": "text"
      },
      "source": [
        "<a href=\"https://colab.research.google.com/github/Klnishant/ANNImplementation/blob/main/Word2Vec.ipynb\" target=\"_parent\"><img src=\"https://colab.research.google.com/assets/colab-badge.svg\" alt=\"Open In Colab\"/></a>"
      ]
    },
    {
      "cell_type": "code",
      "execution_count": 2,
      "metadata": {
        "id": "hiNw7CFDri5H"
      },
      "outputs": [],
      "source": [
        "import gensim\n",
        "from nltk.tokenize import word_tokenize,sent_tokenize\n",
        "import nltk\n",
        "from gensim.models import word2vec"
      ]
    },
    {
      "cell_type": "code",
      "source": [
        "text = \"Word embeddings are essential in NLP tasks. They capture semantic relationships between words.\""
      ],
      "metadata": {
        "id": "DJn1GoyJsBJD"
      },
      "execution_count": 3,
      "outputs": []
    },
    {
      "cell_type": "code",
      "source": [
        "nltk.download('punkt')"
      ],
      "metadata": {
        "colab": {
          "base_uri": "https://localhost:8080/"
        },
        "id": "Q-N3VWeJtGag",
        "outputId": "441bffa1-4aca-4f5a-b900-205a2bfdfab8"
      },
      "execution_count": 5,
      "outputs": [
        {
          "output_type": "stream",
          "name": "stderr",
          "text": [
            "[nltk_data] Downloading package punkt to /root/nltk_data...\n",
            "[nltk_data]   Unzipping tokenizers/punkt.zip.\n"
          ]
        },
        {
          "output_type": "execute_result",
          "data": {
            "text/plain": [
              "True"
            ]
          },
          "metadata": {},
          "execution_count": 5
        }
      ]
    },
    {
      "cell_type": "code",
      "source": [
        "print(\"tokenize in to sentences and words\")\n",
        "sentences = sent_tokenize(text)\n",
        "sentence_tokenization = [word_tokenize(sentences) for sentences in sentences]\n",
        "print(sentence_tokenization)"
      ],
      "metadata": {
        "colab": {
          "base_uri": "https://localhost:8080/"
        },
        "id": "Y1SnUEKTsOFS",
        "outputId": "e5323aae-2b87-489e-d063-74df25733019"
      },
      "execution_count": 6,
      "outputs": [
        {
          "output_type": "stream",
          "name": "stdout",
          "text": [
            "tokenize in to sentences and words\n",
            "[['Word', 'embeddings', 'are', 'essential', 'in', 'NLP', 'tasks', '.'], ['They', 'capture', 'semantic', 'relationships', 'between', 'words', '.']]\n"
          ]
        }
      ]
    },
    {
      "cell_type": "code",
      "source": [
        "print(\"train the word2vec model\")\n",
        "model = word2vec.Word2Vec(sentence_tokenization,window=5,vector_size=100,min_count=1,sg=0)\n",
        "print(\"model trained successfully\")"
      ],
      "metadata": {
        "colab": {
          "base_uri": "https://localhost:8080/"
        },
        "id": "M5cybUWptDVy",
        "outputId": "f795ab9f-fc92-4298-803f-207b8a6c71e7"
      },
      "execution_count": 7,
      "outputs": [
        {
          "output_type": "stream",
          "name": "stdout",
          "text": [
            "train the word2vec model\n",
            "model trained successfully\n"
          ]
        }
      ]
    },
    {
      "cell_type": "code",
      "source": [
        "nltk.download('wordnet')"
      ],
      "metadata": {
        "colab": {
          "base_uri": "https://localhost:8080/"
        },
        "id": "tpTLPB4yunrW",
        "outputId": "9971bde4-2fc0-471e-cf17-be14ffbf1ae7"
      },
      "execution_count": 10,
      "outputs": [
        {
          "output_type": "stream",
          "name": "stderr",
          "text": [
            "[nltk_data] Downloading package wordnet to /root/nltk_data...\n"
          ]
        },
        {
          "output_type": "execute_result",
          "data": {
            "text/plain": [
              "True"
            ]
          },
          "metadata": {},
          "execution_count": 10
        }
      ]
    },
    {
      "cell_type": "code",
      "source": [
        "print(\"Access word vector\")\n",
        "vector = model.wv\n",
        "vector\n",
        "word_vector = vector['Word']\n",
        "word_vector"
      ],
      "metadata": {
        "colab": {
          "base_uri": "https://localhost:8080/"
        },
        "id": "LCgaoQumt8G3",
        "outputId": "bbae5fc5-64c0-4948-96ed-2ea7eb6c1972"
      },
      "execution_count": 15,
      "outputs": [
        {
          "output_type": "stream",
          "name": "stdout",
          "text": [
            "Access word vector\n"
          ]
        },
        {
          "output_type": "execute_result",
          "data": {
            "text/plain": [
              "array([-0.00950012,  0.00956222, -0.00777076, -0.00264551, -0.00490641,\n",
              "       -0.0049667 , -0.00802359, -0.00778358, -0.00455321, -0.00127536,\n",
              "       -0.00510299,  0.00614054, -0.00951662, -0.0053071 ,  0.00943715,\n",
              "        0.00699133,  0.00767582,  0.00423474,  0.00050709, -0.00598114,\n",
              "        0.00601878,  0.00263503,  0.00769943,  0.00639384,  0.00794257,\n",
              "        0.00865741, -0.00989575, -0.0067557 ,  0.00133757,  0.0064403 ,\n",
              "        0.00737382,  0.00551698,  0.00766163, -0.00512557,  0.00658441,\n",
              "       -0.00410837, -0.00905534,  0.00914168,  0.0013314 , -0.00275968,\n",
              "       -0.00247784, -0.00422048,  0.00481234,  0.00440022, -0.00265336,\n",
              "       -0.00734188, -0.00356585, -0.00033661,  0.00609589, -0.00283734,\n",
              "       -0.00012089,  0.00087973, -0.00709565,  0.002065  , -0.00143242,\n",
              "        0.00280215,  0.00484222, -0.00135202, -0.00278014,  0.00773865,\n",
              "        0.0050456 ,  0.00671352,  0.00451564,  0.00866716,  0.00747497,\n",
              "       -0.00108189,  0.00874764,  0.00460172,  0.00544063, -0.00138608,\n",
              "       -0.00204132, -0.00442435, -0.0085152 ,  0.00303773,  0.00888319,\n",
              "        0.00891974, -0.00194235,  0.00608616,  0.00377972, -0.00429597,\n",
              "        0.00204292, -0.00543789,  0.00820889,  0.00543291,  0.00318443,\n",
              "        0.00410257,  0.00865715,  0.00727203, -0.00083347, -0.00707277,\n",
              "        0.00838047,  0.00723358,  0.00173047, -0.00134749, -0.00589009,\n",
              "       -0.00453309,  0.00864797, -0.00313511, -0.00633882,  0.00987008],\n",
              "      dtype=float32)"
            ]
          },
          "metadata": {},
          "execution_count": 15
        }
      ]
    },
    {
      "cell_type": "code",
      "source": [
        "print(\"find similar words\")\n",
        "similar_words = model.wv.most_similar('embeddings',topn=3)\n",
        "similar_words"
      ],
      "metadata": {
        "colab": {
          "base_uri": "https://localhost:8080/"
        },
        "id": "_nZu4i-TuZpZ",
        "outputId": "07e88166-95d4-490d-bee3-1718c983c8c2"
      },
      "execution_count": 16,
      "outputs": [
        {
          "output_type": "stream",
          "name": "stdout",
          "text": [
            "find similar words\n"
          ]
        },
        {
          "output_type": "execute_result",
          "data": {
            "text/plain": [
              "[('semantic', 0.1501718908548355),\n",
              " ('essential', 0.12813477218151093),\n",
              " ('.', 0.0931011438369751)]"
            ]
          },
          "metadata": {},
          "execution_count": 16
        }
      ]
    },
    {
      "cell_type": "code",
      "source": [],
      "metadata": {
        "id": "JOFJOe4wvquL"
      },
      "execution_count": null,
      "outputs": []
    }
  ]
}