{
  "nbformat": 4,
  "nbformat_minor": 0,
  "metadata": {
    "colab": {
      "provenance": [],
      "authorship_tag": "ABX9TyNllWhKPsMj+vkxnAZzPeTt",
      "include_colab_link": true
    },
    "kernelspec": {
      "name": "python3",
      "display_name": "Python 3"
    },
    "language_info": {
      "name": "python"
    }
  },
  "cells": [
    {
      "cell_type": "markdown",
      "metadata": {
        "id": "view-in-github",
        "colab_type": "text"
      },
      "source": [
        "<a href=\"https://colab.research.google.com/github/Klnishant/ANNImplementation/blob/main/CoOccurenceVector.ipynb\" target=\"_parent\"><img src=\"https://colab.research.google.com/assets/colab-badge.svg\" alt=\"Open In Colab\"/></a>"
      ]
    },
    {
      "cell_type": "code",
      "execution_count": 1,
      "metadata": {
        "id": "65RPi2OA3Rh9"
      },
      "outputs": [],
      "source": [
        "import numpy as np\n",
        "from collections import defaultdict\n",
        "from nltk.tokenize import word_tokenize,sent_tokenize"
      ]
    },
    {
      "cell_type": "code",
      "source": [
        "import nltk\n",
        "nltk.download('punkt')"
      ],
      "metadata": {
        "colab": {
          "base_uri": "https://localhost:8080/"
        },
        "id": "J7bLc2kn4IW7",
        "outputId": "ee27956d-7438-4fa8-dd39-ac0077ba201a"
      },
      "execution_count": 3,
      "outputs": [
        {
          "output_type": "stream",
          "name": "stderr",
          "text": [
            "[nltk_data] Downloading package punkt to /root/nltk_data...\n",
            "[nltk_data]   Unzipping tokenizers/punkt.zip.\n"
          ]
        },
        {
          "output_type": "execute_result",
          "data": {
            "text/plain": [
              "True"
            ]
          },
          "metadata": {},
          "execution_count": 3
        }
      ]
    },
    {
      "cell_type": "code",
      "source": [
        "text = \"Co-occurrence vectors capture word relationships in a text corpus. They are used for various NLP tasks.\""
      ],
      "metadata": {
        "id": "JK2b6cVM4Oxy"
      },
      "execution_count": 4,
      "outputs": []
    },
    {
      "cell_type": "code",
      "source": [
        "print(\"tokenize in to sentences and words\")\n",
        "sentences = sent_tokenize(text)\n",
        "tokenize_sentences = [word_tokenize(sentence) for sentence in sentences]\n",
        "print(tokenize_sentences)"
      ],
      "metadata": {
        "colab": {
          "base_uri": "https://localhost:8080/"
        },
        "id": "36-gzVPn4fwN",
        "outputId": "f8a60aa3-a8d9-4d06-a63c-b825c3fc8a2f"
      },
      "execution_count": 5,
      "outputs": [
        {
          "output_type": "stream",
          "name": "stdout",
          "text": [
            "tokenize in to sentences and words\n",
            "[['Co-occurrence', 'vectors', 'capture', 'word', 'relationships', 'in', 'a', 'text', 'corpus', '.'], ['They', 'are', 'used', 'for', 'various', 'NLP', 'tasks', '.']]\n"
          ]
        }
      ]
    },
    {
      "cell_type": "code",
      "source": [
        "print(\"Build co-occurrence matrix\")\n",
        "window_size = 2\n",
        "co_occurence_matrix = defaultdict(lambda: defaultdict(int))\n",
        "for sentence in tokenize_sentences:\n",
        "  for i, word in enumerate(sentence):\n",
        "    for j in range(max(0,i-window_size),min(len(sentence),i+window_size+1)):\n",
        "      if i!=j:\n",
        "        context_word = sentence[j]\n",
        "        co_occurence_matrix[word][context_word] += 1"
      ],
      "metadata": {
        "colab": {
          "base_uri": "https://localhost:8080/"
        },
        "id": "yZobrlNI5ELr",
        "outputId": "133c4be5-c455-420f-8981-a8b25a267578"
      },
      "execution_count": 8,
      "outputs": [
        {
          "output_type": "stream",
          "name": "stdout",
          "text": [
            "Build co-occurrence matrix\n"
          ]
        }
      ]
    },
    {
      "cell_type": "code",
      "source": [
        "print(\"co-occurrence matrix\")\n",
        "for target_word, context_word in co_occurence_matrix.items():\n",
        "  print(target_word,context_word)"
      ],
      "metadata": {
        "colab": {
          "base_uri": "https://localhost:8080/"
        },
        "id": "GMvWZCJA6jb8",
        "outputId": "aaf056cf-9b28-4ff1-851d-705061e829ff"
      },
      "execution_count": 9,
      "outputs": [
        {
          "output_type": "stream",
          "name": "stdout",
          "text": [
            "co-occurrence matrix\n",
            "Co-occurrence defaultdict(<class 'int'>, {'vectors': 1, 'capture': 1})\n",
            "vectors defaultdict(<class 'int'>, {'Co-occurrence': 1, 'capture': 1, 'word': 1})\n",
            "capture defaultdict(<class 'int'>, {'Co-occurrence': 1, 'vectors': 1, 'word': 1, 'relationships': 1})\n",
            "word defaultdict(<class 'int'>, {'vectors': 1, 'capture': 1, 'relationships': 1, 'in': 1})\n",
            "relationships defaultdict(<class 'int'>, {'capture': 1, 'word': 1, 'in': 1, 'a': 1})\n",
            "in defaultdict(<class 'int'>, {'word': 1, 'relationships': 1, 'a': 1, 'text': 1})\n",
            "a defaultdict(<class 'int'>, {'relationships': 1, 'in': 1, 'text': 1, 'corpus': 1})\n",
            "text defaultdict(<class 'int'>, {'in': 1, 'a': 1, 'corpus': 1, '.': 1})\n",
            "corpus defaultdict(<class 'int'>, {'a': 1, 'text': 1, '.': 1})\n",
            ". defaultdict(<class 'int'>, {'text': 1, 'corpus': 1, 'NLP': 1, 'tasks': 1})\n",
            "They defaultdict(<class 'int'>, {'are': 1, 'used': 1})\n",
            "are defaultdict(<class 'int'>, {'They': 1, 'used': 1, 'for': 1})\n",
            "used defaultdict(<class 'int'>, {'They': 1, 'are': 1, 'for': 1, 'various': 1})\n",
            "for defaultdict(<class 'int'>, {'are': 1, 'used': 1, 'various': 1, 'NLP': 1})\n",
            "various defaultdict(<class 'int'>, {'used': 1, 'for': 1, 'NLP': 1, 'tasks': 1})\n",
            "NLP defaultdict(<class 'int'>, {'for': 1, 'various': 1, 'tasks': 1, '.': 1})\n",
            "tasks defaultdict(<class 'int'>, {'various': 1, 'NLP': 1, '.': 1})\n"
          ]
        }
      ]
    },
    {
      "cell_type": "code",
      "source": [],
      "metadata": {
        "id": "1ooXriLW7KXw"
      },
      "execution_count": null,
      "outputs": []
    }
  ]
}