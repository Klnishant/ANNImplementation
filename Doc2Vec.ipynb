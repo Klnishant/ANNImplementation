{
  "nbformat": 4,
  "nbformat_minor": 0,
  "metadata": {
    "colab": {
      "provenance": [],
      "authorship_tag": "ABX9TyNtOsHxs8dozDaEh8AdhRvB",
      "include_colab_link": true
    },
    "kernelspec": {
      "name": "python3",
      "display_name": "Python 3"
    },
    "language_info": {
      "name": "python"
    }
  },
  "cells": [
    {
      "cell_type": "markdown",
      "metadata": {
        "id": "view-in-github",
        "colab_type": "text"
      },
      "source": [
        "<a href=\"https://colab.research.google.com/github/Klnishant/ANNImplementation/blob/main/Doc2Vec.ipynb\" target=\"_parent\"><img src=\"https://colab.research.google.com/assets/colab-badge.svg\" alt=\"Open In Colab\"/></a>"
      ]
    },
    {
      "cell_type": "code",
      "execution_count": 1,
      "metadata": {
        "id": "J-nSHR-a80Dg"
      },
      "outputs": [],
      "source": [
        "from gensim.models import Doc2Vec\n",
        "from gensim.models.doc2vec import TaggedDocument\n",
        "import nltk\n",
        "from nltk.tokenize import word_tokenize,sent_tokenize"
      ]
    },
    {
      "cell_type": "code",
      "source": [
        "nltk.download('punkt')"
      ],
      "metadata": {
        "colab": {
          "base_uri": "https://localhost:8080/"
        },
        "id": "jLUDVUPC9ZKp",
        "outputId": "b21cd365-4274-4df4-bd9e-3e2a47f303ac"
      },
      "execution_count": 2,
      "outputs": [
        {
          "output_type": "stream",
          "name": "stderr",
          "text": [
            "[nltk_data] Downloading package punkt to /root/nltk_data...\n",
            "[nltk_data]   Unzipping tokenizers/punkt.zip.\n"
          ]
        },
        {
          "output_type": "execute_result",
          "data": {
            "text/plain": [
              "True"
            ]
          },
          "metadata": {},
          "execution_count": 2
        }
      ]
    },
    {
      "cell_type": "code",
      "source": [
        "text = \"Doc2Vec is used for creating document embeddings. It captures the context of entire documents.\""
      ],
      "metadata": {
        "id": "qTPlSkpB9hvo"
      },
      "execution_count": 3,
      "outputs": []
    },
    {
      "cell_type": "code",
      "source": [
        "print(\"Tokenize in to sentences and words\")\n",
        "sentences = sent_tokenize(text)\n",
        "tokenize_sentences = [word_tokenize(sentence) for sentence in sentences]\n",
        "print(tokenize_sentences)"
      ],
      "metadata": {
        "colab": {
          "base_uri": "https://localhost:8080/"
        },
        "id": "S0a1dN-89nPx",
        "outputId": "dd6deffc-e35e-43ff-d907-97032fbf778b"
      },
      "execution_count": 4,
      "outputs": [
        {
          "output_type": "stream",
          "name": "stdout",
          "text": [
            "Tokenize in to sentences and words\n",
            "[['Doc2Vec', 'is', 'used', 'for', 'creating', 'document', 'embeddings', '.'], ['It', 'captures', 'the', 'context', 'of', 'entire', 'documents', '.']]\n"
          ]
        }
      ]
    },
    {
      "cell_type": "code",
      "source": [
        "print(\"Prepare tagged data\")\n",
        "tagged_data = [TaggedDocument(words = words, tags = [str(idx)]) for idx,words in enumerate(tokenize_sentences)]\n",
        "print(tagged_data)"
      ],
      "metadata": {
        "colab": {
          "base_uri": "https://localhost:8080/"
        },
        "id": "LLkF44Lk-H0G",
        "outputId": "7e14d4b6-946e-4f25-a7a1-f9b65400e44c"
      },
      "execution_count": 11,
      "outputs": [
        {
          "output_type": "stream",
          "name": "stdout",
          "text": [
            "Prepare tagged data\n",
            "[TaggedDocument(words=['Doc2Vec', 'is', 'used', 'for', 'creating', 'document', 'embeddings', '.'], tags=['0']), TaggedDocument(words=['It', 'captures', 'the', 'context', 'of', 'entire', 'documents', '.'], tags=['1'])]\n"
          ]
        }
      ]
    },
    {
      "cell_type": "code",
      "source": [
        "print(\"train the dov2vec model\")\n",
        "model = Doc2Vec(vector_size=100, window=5, min_count=1, dm=1, epochs=20 )\n",
        "model.build_vocab(tagged_data)\n",
        "model.train(tagged_data, total_examples=model.corpus_count, epochs=model.epochs)\n",
        "print(\"model train successfully\")"
      ],
      "metadata": {
        "colab": {
          "base_uri": "https://localhost:8080/"
        },
        "id": "DRqpqzZi-7Wq",
        "outputId": "84e2ddcd-01ff-4772-dbdb-87baed7d11b5"
      },
      "execution_count": 12,
      "outputs": [
        {
          "output_type": "stream",
          "name": "stdout",
          "text": [
            "train the dov2vec model\n",
            "model train successfully\n"
          ]
        }
      ]
    },
    {
      "cell_type": "code",
      "source": [
        "print(\"Infer document vector\")\n",
        "vector = model.infer_vector(word_tokenize(\"Doc2Vec is a powerful tool for document embeddings.\"))\n",
        "print(vector)"
      ],
      "metadata": {
        "colab": {
          "base_uri": "https://localhost:8080/"
        },
        "id": "AHkqwE3MAJuD",
        "outputId": "c8c741b4-9b33-435c-f597-425aa5477d3a"
      },
      "execution_count": 13,
      "outputs": [
        {
          "output_type": "stream",
          "name": "stdout",
          "text": [
            "Infer document vector\n",
            "[-2.4597116e-03 -1.1503181e-03  1.7520753e-04 -3.0016280e-03\n",
            "  4.6895477e-03  4.4070599e-03 -2.7600217e-03 -4.5752488e-03\n",
            " -1.5426227e-03  4.2077303e-03 -1.4266908e-03  2.4124954e-03\n",
            " -4.1194414e-03 -4.0447842e-03 -3.6046377e-03 -6.4990146e-04\n",
            " -1.2606373e-03 -4.7393977e-03 -3.5141450e-03  2.7553870e-03\n",
            "  1.2357272e-03 -1.9489599e-03  3.2551805e-03  3.0963586e-03\n",
            "  2.3552205e-03 -3.4035926e-03  4.6113865e-03 -4.0970375e-03\n",
            "  1.5600724e-03 -1.9046318e-03 -4.7259522e-04 -4.3278080e-03\n",
            " -4.3016006e-04 -3.0355696e-03  4.2346958e-03  3.4487119e-03\n",
            " -4.4938340e-03  3.5896085e-03 -3.9979815e-03  3.3329849e-03\n",
            " -1.8844417e-05 -1.1001187e-03  3.6380324e-04 -3.1592662e-03\n",
            "  2.4479632e-03  2.0161893e-03  3.1827376e-03 -8.5215777e-04\n",
            "  2.9127011e-03  1.7348465e-03 -7.3579152e-04 -2.3687833e-03\n",
            " -4.1537749e-04 -2.9624617e-03  2.0763471e-03  5.0201574e-03\n",
            "  2.6443200e-03  1.7855108e-03 -2.3430334e-03  1.9394023e-03\n",
            " -4.6764044e-03  6.0500312e-05  4.7542867e-03 -4.6872763e-05\n",
            " -2.9113954e-03  4.0149968e-03  1.7123673e-03 -4.7167786e-03\n",
            "  3.2017126e-03  2.5899048e-04  1.3364225e-03 -4.7188224e-03\n",
            " -4.5778486e-03 -4.1159592e-03  3.7842484e-03 -1.1653618e-03\n",
            "  1.3687807e-03 -4.0003145e-03  7.5390266e-04  4.3530404e-03\n",
            " -3.5538478e-03  3.9390451e-03 -3.1790498e-04 -1.9842209e-03\n",
            "  1.0400329e-03  3.3821182e-03 -2.7511108e-03  4.3152128e-03\n",
            "  4.5211092e-03  4.4868109e-03 -4.4708322e-03  2.8430314e-03\n",
            " -2.5478581e-03 -3.5697542e-04 -1.0832144e-03  3.8793087e-03\n",
            "  4.6880655e-03  4.6522068e-03 -8.9211727e-04  3.6099365e-03]\n"
          ]
        }
      ]
    },
    {
      "cell_type": "code",
      "source": [],
      "metadata": {
        "id": "f0iPsHhpBvbN"
      },
      "execution_count": null,
      "outputs": []
    }
  ]
}