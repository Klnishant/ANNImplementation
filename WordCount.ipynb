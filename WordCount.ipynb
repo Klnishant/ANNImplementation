{
  "nbformat": 4,
  "nbformat_minor": 0,
  "metadata": {
    "colab": {
      "provenance": [],
      "authorship_tag": "ABX9TyOhXxTBCyQ6L9TZVRSSttA2",
      "include_colab_link": true
    },
    "kernelspec": {
      "name": "python3",
      "display_name": "Python 3"
    },
    "language_info": {
      "name": "python"
    }
  },
  "cells": [
    {
      "cell_type": "markdown",
      "metadata": {
        "id": "view-in-github",
        "colab_type": "text"
      },
      "source": [
        "<a href=\"https://colab.research.google.com/github/Klnishant/ANNImplementation/blob/main/WordCount.ipynb\" target=\"_parent\"><img src=\"https://colab.research.google.com/assets/colab-badge.svg\" alt=\"Open In Colab\"/></a>"
      ]
    },
    {
      "cell_type": "code",
      "execution_count": 2,
      "metadata": {
        "id": "jlC9MCjO7TBV"
      },
      "outputs": [],
      "source": [
        "text = \"This is a sample text. It contains some words. This text is used for word count example.\""
      ]
    },
    {
      "cell_type": "code",
      "source": [
        "print(\"Tokenizes the text\")\n",
        "words = text.split()\n",
        "print(words)"
      ],
      "metadata": {
        "colab": {
          "base_uri": "https://localhost:8080/"
        },
        "id": "lMVNdtc27XjH",
        "outputId": "bed85d58-564d-43e3-9a20-a3ad63d5360d"
      },
      "execution_count": 3,
      "outputs": [
        {
          "output_type": "stream",
          "name": "stdout",
          "text": [
            "Tokenizes the text\n",
            "['This', 'is', 'a', 'sample', 'text.', 'It', 'contains', 'some', 'words.', 'This', 'text', 'is', 'used', 'for', 'word', 'count', 'example.']\n"
          ]
        }
      ]
    },
    {
      "cell_type": "code",
      "source": [
        "print(\"counts the words\")\n",
        "words_count = len(words)\n",
        "print(words_count)"
      ],
      "metadata": {
        "colab": {
          "base_uri": "https://localhost:8080/"
        },
        "id": "ONby9oZf7oiv",
        "outputId": "fa295e68-8423-4292-c9d7-c121b891fd26"
      },
      "execution_count": 4,
      "outputs": [
        {
          "output_type": "stream",
          "name": "stdout",
          "text": [
            "counts the words\n",
            "17\n"
          ]
        }
      ]
    },
    {
      "cell_type": "code",
      "source": [
        "print(\"counts the unique words\")\n",
        "unique_words = set(words)\n",
        "unique_words_count = len(unique_words)\n",
        "print(unique_words_count)"
      ],
      "metadata": {
        "colab": {
          "base_uri": "https://localhost:8080/"
        },
        "id": "G3755dUE78iq",
        "outputId": "2fbeb8ac-819f-49ed-a0a8-354ed1e26db1"
      },
      "execution_count": 5,
      "outputs": [
        {
          "output_type": "stream",
          "name": "stdout",
          "text": [
            "counts the unique words\n",
            "15\n"
          ]
        }
      ]
    },
    {
      "cell_type": "code",
      "source": [],
      "metadata": {
        "id": "Ug0xU-kO8SOj"
      },
      "execution_count": null,
      "outputs": []
    }
  ]
}