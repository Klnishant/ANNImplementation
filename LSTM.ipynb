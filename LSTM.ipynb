{
  "nbformat": 4,
  "nbformat_minor": 0,
  "metadata": {
    "colab": {
      "provenance": [],
      "authorship_tag": "ABX9TyOU9lTNViuHWNSJlOS6MYt6",
      "include_colab_link": true
    },
    "kernelspec": {
      "name": "python3",
      "display_name": "Python 3"
    },
    "language_info": {
      "name": "python"
    }
  },
  "cells": [
    {
      "cell_type": "markdown",
      "metadata": {
        "id": "view-in-github",
        "colab_type": "text"
      },
      "source": [
        "<a href=\"https://colab.research.google.com/github/Klnishant/ANNImplementation/blob/main/LSTM.ipynb\" target=\"_parent\"><img src=\"https://colab.research.google.com/assets/colab-badge.svg\" alt=\"Open In Colab\"/></a>"
      ]
    },
    {
      "cell_type": "code",
      "execution_count": 1,
      "metadata": {
        "id": "rtkX-uxAzf4z"
      },
      "outputs": [],
      "source": [
        "import torch\n",
        "import torch.nn as nn"
      ]
    },
    {
      "cell_type": "code",
      "source": [
        "class SentimentAnalysis(nn.Module):\n",
        "  def __init__(self, vocab_size, embedding_dim, hidden_size, num_layers):\n",
        "    super(SentimentAnalysis, self).__init__()\n",
        "    self.embedding = nn.Embedding(vocab_size, embedding_dim)\n",
        "    self.lstm = nn.LSTM(embedding_dim, hidden_size, num_layers, batch_first=True)\n",
        "    self.fc = nn.Linear(hidden_size,2)\n",
        "\n",
        "  def forward(self,x):\n",
        "    emmbed = self.embedding(x)\n",
        "    output, _ = self.lstm(emmbed)\n",
        "    output = self.fc(output[:, -1, :])\n",
        "    return output"
      ],
      "metadata": {
        "id": "AFcHYmGmzqi_"
      },
      "execution_count": 2,
      "outputs": []
    },
    {
      "cell_type": "code",
      "source": [
        "vocab_size = 10000\n",
        "embedding_dim = 100\n",
        "hidden_size =128\n",
        "num_layers = 2\n",
        "sentiment_model = SentimentAnalysis(vocab_size,embedding_dim,hidden_size,num_layers)"
      ],
      "metadata": {
        "id": "6HmXsmNS3GsP"
      },
      "execution_count": 3,
      "outputs": []
    },
    {
      "cell_type": "code",
      "source": [
        "train_data = torch.randint(0,vocab_size,(128,50))\n",
        "train_labels = torch.randint(0,2,(128,))"
      ],
      "metadata": {
        "id": "OMyPoFhA9P4e"
      },
      "execution_count": 4,
      "outputs": []
    },
    {
      "cell_type": "code",
      "source": [
        "criterion = nn.CrossEntropyLoss()\n",
        "optimizer = torch.optim.Adam(sentiment_model.parameters(),lr=0.01)"
      ],
      "metadata": {
        "id": "VysbttVF-e2-"
      },
      "execution_count": 5,
      "outputs": []
    },
    {
      "cell_type": "code",
      "source": [
        "num_epochs = 10\n",
        "for epoch in range(num_epochs):\n",
        "  optimizer.zero_grad()\n",
        "  outputs = sentiment_model(train_data)\n",
        "  loss = criterion(outputs,train_labels)\n",
        "  loss.backward()\n",
        "  optimizer.step()\n",
        "  print(f\"Epoch: {epoch+1}/{num_epochs} loss: {loss}\")"
      ],
      "metadata": {
        "colab": {
          "base_uri": "https://localhost:8080/"
        },
        "id": "Dr3Om2pm-yKP",
        "outputId": "3ad9f714-a292-484c-ada5-34cbca1d1268"
      },
      "execution_count": 6,
      "outputs": [
        {
          "output_type": "stream",
          "name": "stdout",
          "text": [
            "Epoch: 1/10 loss: 0.6917958855628967\n",
            "Epoch: 2/10 loss: 0.6508482098579407\n",
            "Epoch: 3/10 loss: 0.4306378960609436\n",
            "Epoch: 4/10 loss: 1.1808702945709229\n",
            "Epoch: 5/10 loss: 0.2537427246570587\n",
            "Epoch: 6/10 loss: 0.17313073575496674\n",
            "Epoch: 7/10 loss: 0.1726241409778595\n",
            "Epoch: 8/10 loss: 0.1492934674024582\n",
            "Epoch: 9/10 loss: 0.10371389985084534\n",
            "Epoch: 10/10 loss: 0.06096195802092552\n"
          ]
        }
      ]
    },
    {
      "cell_type": "code",
      "source": [
        "class NERLSTM(nn.Module):\n",
        "  def __init__(self, vocab_size, embedding_dim, hidden_size, num_layers, num_classes):\n",
        "    super(NERLSTM, self).__init__()\n",
        "\n",
        "    self.embedding = nn.Embedding(vocab_size, embedding_dim)\n",
        "    self.lstm = nn.LSTM(embedding_dim, hidden_size, num_layers, batch_first=True)\n",
        "    self.fc = nn.Linear(hidden_size,num_classes)\n",
        "\n",
        "  def forward(self,x):\n",
        "    embbed = self.embedding(x)\n",
        "    output,_ = self.lstm(embbed)\n",
        "    output = self.fc(output)\n",
        "    return output"
      ],
      "metadata": {
        "id": "zwpiQHbp_xN-"
      },
      "execution_count": 7,
      "outputs": []
    },
    {
      "cell_type": "code",
      "source": [
        "num_classes =10\n",
        "ner_model = NERLSTM(vocab_size,embedding_dim,hidden_size,num_layers,num_classes)"
      ],
      "metadata": {
        "id": "Iepu5kx4DKok"
      },
      "execution_count": 8,
      "outputs": []
    },
    {
      "cell_type": "code",
      "source": [
        "criterion_ner = nn.CrossEntropyLoss()\n",
        "optimizer_ner = torch.optim.Adam(ner_model.parameters(),lr=0.01)"
      ],
      "metadata": {
        "id": "iFrnl9EwD2wq"
      },
      "execution_count": 9,
      "outputs": []
    },
    {
      "cell_type": "code",
      "source": [
        "train_data_ner = torch.randint(0, vocab_size, (128, 10))  # Example data with batch size 128 and sequence length 30\n",
        "train_labels_ner = torch.randint(0, num_classes, (128, 10))  # Example NER labels\n"
      ],
      "metadata": {
        "id": "FmfNVd-yFHgl"
      },
      "execution_count": 10,
      "outputs": []
    },
    {
      "cell_type": "code",
      "source": [
        "for epoch in range(num_epochs):\n",
        "  optimizer_ner.zero_grad()\n",
        "  outputs = ner_model(train_data_ner)\n",
        "  loss = criterion_ner(outputs,train_labels_ner)\n",
        "  loss.backward()\n",
        "  optimizer_ner.step()\n",
        "  print(f\"Epoch: {epoch+1}/{num_epochs} loss: {loss.item():.4f}\")"
      ],
      "metadata": {
        "colab": {
          "base_uri": "https://localhost:8080/"
        },
        "id": "sCRPNt-jEM08",
        "outputId": "6b10da4f-9fbc-4731-c9f8-85d2a4471c8a"
      },
      "execution_count": 12,
      "outputs": [
        {
          "output_type": "stream",
          "name": "stdout",
          "text": [
            "Epoch: 1/10 loss: 0.9012\n",
            "Epoch: 2/10 loss: 0.7354\n",
            "Epoch: 3/10 loss: 0.5868\n",
            "Epoch: 4/10 loss: 0.4490\n",
            "Epoch: 5/10 loss: 0.3360\n",
            "Epoch: 6/10 loss: 0.2419\n",
            "Epoch: 7/10 loss: 0.1686\n",
            "Epoch: 8/10 loss: 0.1156\n",
            "Epoch: 9/10 loss: 0.0788\n",
            "Epoch: 10/10 loss: 0.0539\n"
          ]
        }
      ]
    },
    {
      "cell_type": "code",
      "source": [
        "class LanguageGeneration(nn.Module):\n",
        "  def __init__(self, vocab_size, embedding_dim, hidden_size, num_layers):\n",
        "    super(LanguageGeneration, self).__init__()\n",
        "    self.embedding = nn.Embedding(vocab_size, embedding_dim)\n",
        "    self.lstm = nn.LSTM(embedding_dim, hidden_size, num_layers, batch_first=True)\n",
        "    self.fc = nn.Linear(hidden_size, vocab_size)\n",
        "\n",
        "  def forward(self,x):\n",
        "    embbed = self.embedding(x)\n",
        "    output,_ = self.lstm(embbed)\n",
        "    output = self.fc(output)\n",
        "    return output"
      ],
      "metadata": {
        "id": "thS0gRYHEw9x"
      },
      "execution_count": 13,
      "outputs": []
    },
    {
      "cell_type": "code",
      "source": [
        "language_model = LanguageGeneration(vocab_size,embedding_dim,hidden_size,num_layers)"
      ],
      "metadata": {
        "id": "p_61fCQtaPs3"
      },
      "execution_count": 14,
      "outputs": []
    },
    {
      "cell_type": "code",
      "source": [
        "train_data_lang = torch.randint(0,vocab_size,(128,30))"
      ],
      "metadata": {
        "id": "ZxfoMNmKal0A"
      },
      "execution_count": 15,
      "outputs": []
    },
    {
      "cell_type": "code",
      "source": [
        "criterion_lang = nn.CrossEntropyLoss()\n",
        "optimizer_lang = torch.optim.Adam(language_model.parameters(),lr=0.01)"
      ],
      "metadata": {
        "id": "0N4Vcs33a4Gb"
      },
      "execution_count": 16,
      "outputs": []
    },
    {
      "cell_type": "code",
      "source": [
        "for epoch in range(num_epochs):\n",
        "  optimizer_lang.zero_grad()\n",
        "  outputs = language_model(train_data_lang)\n",
        "  loss = criterion_lang(outputs.view(-1,vocab_size),train_data_lang.view(-1))\n",
        "  loss.backward()\n",
        "  optimizer_lang.step()\n",
        "  print(f\"Epoch: {epoch+1}/{num_epochs} loss: {loss.item():.4f}\")"
      ],
      "metadata": {
        "colab": {
          "base_uri": "https://localhost:8080/"
        },
        "id": "xm-ERAIGbLMW",
        "outputId": "a587a21a-8af4-4d7c-cec1-4ecfc3413c37"
      },
      "execution_count": 18,
      "outputs": [
        {
          "output_type": "stream",
          "name": "stdout",
          "text": [
            "Epoch: 1/10 loss: 7.7088\n",
            "Epoch: 2/10 loss: 7.5929\n",
            "Epoch: 3/10 loss: 7.4566\n",
            "Epoch: 4/10 loss: 7.3373\n",
            "Epoch: 5/10 loss: 7.1752\n",
            "Epoch: 6/10 loss: 7.0041\n",
            "Epoch: 7/10 loss: 6.8227\n",
            "Epoch: 8/10 loss: 6.6358\n",
            "Epoch: 9/10 loss: 6.4318\n",
            "Epoch: 10/10 loss: 6.2197\n"
          ]
        }
      ]
    },
    {
      "cell_type": "code",
      "source": [
        "def generate_text(model, start_token, max_length=50):\n",
        "  model.eval()\n",
        "  with torch.no_grad():\n",
        "    current_token = start_token\n",
        "    generated_text = [start_token]\n",
        "\n",
        "    for _ in range(max_length):\n",
        "      input_tensor = torch.tensor([[current_token]])\n",
        "      output = model(input_tensor)\n",
        "      next_token_probs = output[:,-1,:]\n",
        "      next_token = torch.argmax(next_token_probs).item()\n",
        "      generated_text.append(next_token)\n",
        "      current_token = next_token\n",
        "\n",
        "    return generated_text"
      ],
      "metadata": {
        "id": "L7LiO5HccJpE"
      },
      "execution_count": 19,
      "outputs": []
    },
    {
      "cell_type": "code",
      "source": [
        "start_token = torch.randint(0, vocab_size, (1,1))\n",
        "generated_text = generate_text(language_model,start_token,max_length=100)\n",
        "print(\"Generated Text\")\n",
        "print(generated_text)"
      ],
      "metadata": {
        "colab": {
          "base_uri": "https://localhost:8080/"
        },
        "id": "l1Gf_K-Beaxk",
        "outputId": "84d61cd9-b0e2-44a6-925e-f8922391d73f"
      },
      "execution_count": 20,
      "outputs": [
        {
          "output_type": "stream",
          "name": "stdout",
          "text": [
            "Generated Text\n",
            "[tensor([[1391]]), 5643, 5643, 5643, 5643, 5643, 5643, 5643, 5643, 5643, 5643, 5643, 5643, 5643, 5643, 5643, 5643, 5643, 5643, 5643, 5643, 5643, 5643, 5643, 5643, 5643, 5643, 5643, 5643, 5643, 5643, 5643, 5643, 5643, 5643, 5643, 5643, 5643, 5643, 5643, 5643, 5643, 5643, 5643, 5643, 5643, 5643, 5643, 5643, 5643, 5643, 5643, 5643, 5643, 5643, 5643, 5643, 5643, 5643, 5643, 5643, 5643, 5643, 5643, 5643, 5643, 5643, 5643, 5643, 5643, 5643, 5643, 5643, 5643, 5643, 5643, 5643, 5643, 5643, 5643, 5643, 5643, 5643, 5643, 5643, 5643, 5643, 5643, 5643, 5643, 5643, 5643, 5643, 5643, 5643, 5643, 5643, 5643, 5643, 5643, 5643]\n"
          ]
        }
      ]
    },
    {
      "cell_type": "code",
      "source": [],
      "metadata": {
        "id": "MvuG_YUbfAOn"
      },
      "execution_count": null,
      "outputs": []
    }
  ]
}