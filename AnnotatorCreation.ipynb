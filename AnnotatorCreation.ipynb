{
  "nbformat": 4,
  "nbformat_minor": 0,
  "metadata": {
    "colab": {
      "provenance": [],
      "authorship_tag": "ABX9TyNGEXdjjuCtB4aAsizoG218",
      "include_colab_link": true
    },
    "kernelspec": {
      "name": "python3",
      "display_name": "Python 3"
    },
    "language_info": {
      "name": "python"
    }
  },
  "cells": [
    {
      "cell_type": "markdown",
      "metadata": {
        "id": "view-in-github",
        "colab_type": "text"
      },
      "source": [
        "<a href=\"https://colab.research.google.com/github/Klnishant/ANNImplementation/blob/main/AnnotatorCreation.ipynb\" target=\"_parent\"><img src=\"https://colab.research.google.com/assets/colab-badge.svg\" alt=\"Open In Colab\"/></a>"
      ]
    },
    {
      "cell_type": "code",
      "execution_count": 1,
      "metadata": {
        "id": "ob8vqnkC5U1A"
      },
      "outputs": [],
      "source": [
        "data = [\n",
        "    (\"I love this product!\", \"positive\"),\n",
        "    (\"This is not what I expected.\", \"negative\"),\n",
        "    (\"The customer service was excellent.\", \"positive\"),\n",
        "    (\"The quality of the item is poor.\", \"negative\")\n",
        "]"
      ]
    },
    {
      "cell_type": "code",
      "source": [
        "print(\"Define the annotator\")\n",
        "\n",
        "def annotator(data):\n",
        "  annotated_data = []\n",
        "  for text, label in data:\n",
        "    annotated_data.append((text, label))\n",
        "  return annotated_data"
      ],
      "metadata": {
        "colab": {
          "base_uri": "https://localhost:8080/"
        },
        "id": "IgWwkFRG5ffy",
        "outputId": "5ed78e42-cca0-4fc2-ab4c-b81fc65ccff4"
      },
      "execution_count": 4,
      "outputs": [
        {
          "output_type": "stream",
          "name": "stdout",
          "text": [
            "Define the annotator\n"
          ]
        }
      ]
    },
    {
      "cell_type": "code",
      "source": [
        "print(\"Annotat the data\")\n",
        "annotated_data = annotator(data)\n",
        "for text, label in annotated_data:\n",
        "  print(f\"Text:{text}\\tLabel:{label}\")"
      ],
      "metadata": {
        "colab": {
          "base_uri": "https://localhost:8080/"
        },
        "id": "qPlq-Sla6A53",
        "outputId": "e6970ce3-d4a7-4638-c728-c282eafd24ff"
      },
      "execution_count": 5,
      "outputs": [
        {
          "output_type": "stream",
          "name": "stdout",
          "text": [
            "Annotat the data\n",
            "Text:I love this product!\tLabel:positive\n",
            "Text:This is not what I expected.\tLabel:negative\n",
            "Text:The customer service was excellent.\tLabel:positive\n",
            "Text:The quality of the item is poor.\tLabel:negative\n"
          ]
        }
      ]
    },
    {
      "cell_type": "code",
      "source": [],
      "metadata": {
        "id": "7xyrtpUf6gk3"
      },
      "execution_count": null,
      "outputs": []
    }
  ]
}