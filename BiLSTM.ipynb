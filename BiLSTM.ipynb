{
  "nbformat": 4,
  "nbformat_minor": 0,
  "metadata": {
    "colab": {
      "provenance": [],
      "authorship_tag": "ABX9TyP0p9RvPK9Dq0ClNYVDTmzM",
      "include_colab_link": true
    },
    "kernelspec": {
      "name": "python3",
      "display_name": "Python 3"
    },
    "language_info": {
      "name": "python"
    }
  },
  "cells": [
    {
      "cell_type": "markdown",
      "metadata": {
        "id": "view-in-github",
        "colab_type": "text"
      },
      "source": [
        "<a href=\"https://colab.research.google.com/github/Klnishant/ANNImplementation/blob/main/BiLSTM.ipynb\" target=\"_parent\"><img src=\"https://colab.research.google.com/assets/colab-badge.svg\" alt=\"Open In Colab\"/></a>"
      ]
    },
    {
      "cell_type": "code",
      "execution_count": 1,
      "metadata": {
        "id": "Wo-jgATgfvjM"
      },
      "outputs": [],
      "source": [
        "import torch\n",
        "import torch.nn as nn"
      ]
    },
    {
      "cell_type": "code",
      "source": [
        "class BiLSTM(nn.Module):\n",
        "  def __init__(self, vocab_size,embedding_dim, hidden_size, num_layers, num_classes):\n",
        "    super(BiLSTM, self).__init__()\n",
        "    self.embedding = nn.Embedding(vocab_size, embedding_dim)\n",
        "    self.bilstm = nn.LSTM(embedding_dim, hidden_size, num_layers, bidirectional=True, batch_first=True)\n",
        "    self.fc = nn.Linear(hidden_size*2,num_classes)\n",
        "\n",
        "  def forward(self, x):\n",
        "    embedd = self.embedding(x)\n",
        "    output,_ = self.bilstm(embedd)\n",
        "    output = self.fc(output[:,-1,:])\n",
        "    return output"
      ],
      "metadata": {
        "id": "Ofyko7iFf-JS"
      },
      "execution_count": 2,
      "outputs": []
    },
    {
      "cell_type": "code",
      "source": [
        "vocab_size = 10000\n",
        "embedding_dim = 100\n",
        "hidden_size = 128\n",
        "num_layers = 2\n",
        "num_classes = 5\n",
        "\n",
        "train_data = torch.randint(0, vocab_size,(128,50))\n",
        "train_label = torch.randint(0, num_classes,(128,))"
      ],
      "metadata": {
        "id": "aqfK-AQ_h2Y2"
      },
      "execution_count": 3,
      "outputs": []
    },
    {
      "cell_type": "code",
      "source": [
        "bilstm_model = BiLSTM(vocab_size,embedding_dim, hidden_size, num_layers, num_classes)"
      ],
      "metadata": {
        "id": "8aFDId_Wivbl"
      },
      "execution_count": 4,
      "outputs": []
    },
    {
      "cell_type": "code",
      "source": [
        "criterion = nn.CrossEntropyLoss()\n",
        "optimizer = torch.optim.Adam(bilstm_model.parameters(),lr=0.01)"
      ],
      "metadata": {
        "id": "cKRCWt8ljA5s"
      },
      "execution_count": 5,
      "outputs": []
    },
    {
      "cell_type": "code",
      "source": [
        "num_epochs = 10\n",
        "for epoch in range(num_epochs):\n",
        "  optimizer.zero_grad()\n",
        "  outputs = bilstm_model(train_data)\n",
        "  loss = criterion(outputs, train_label)\n",
        "  loss.backward()\n",
        "  optimizer.step()\n",
        "  print(f\"Epoch: {epoch+1}/{num_epochs} Loss: {loss.item():.4f}\")"
      ],
      "metadata": {
        "colab": {
          "base_uri": "https://localhost:8080/"
        },
        "id": "vw4Qz95ljVZ3",
        "outputId": "d4706ae3-98a0-4419-a17c-756c91c186b3"
      },
      "execution_count": 6,
      "outputs": [
        {
          "output_type": "stream",
          "name": "stdout",
          "text": [
            "Epoch: 1/10 Loss: 1.6109\n",
            "Epoch: 2/10 Loss: 1.4695\n",
            "Epoch: 3/10 Loss: 1.1803\n",
            "Epoch: 4/10 Loss: 0.8315\n",
            "Epoch: 5/10 Loss: 0.4487\n",
            "Epoch: 6/10 Loss: 0.1357\n",
            "Epoch: 7/10 Loss: 0.0255\n",
            "Epoch: 8/10 Loss: 0.0048\n",
            "Epoch: 9/10 Loss: 0.0018\n",
            "Epoch: 10/10 Loss: 0.0861\n"
          ]
        }
      ]
    },
    {
      "cell_type": "code",
      "source": [
        "class BiLSTMNER(nn.Module):\n",
        "  def __init__(self, vocab_size, embedding_dim, hidden_size, num_layers, num_classes):\n",
        "    super(BiLSTMNER, self).__init__()\n",
        "    self.embedding = nn.Embedding(vocab_size, embedding_dim)\n",
        "    self.bilstm = nn.LSTM(embedding_dim, hidden_size, num_layers, bidirectional=True, batch_first=True)\n",
        "    self.fc = nn.Linear(hidden_size*2,num_classes)\n",
        "\n",
        "  def forward(self,x):\n",
        "    embedd = self.embedding(x)\n",
        "    output,_ = self.bilstm(embedd)\n",
        "    output = self.fc(output)\n",
        "    return output"
      ],
      "metadata": {
        "id": "loo_C7GIkC9-"
      },
      "execution_count": 7,
      "outputs": []
    },
    {
      "cell_type": "code",
      "source": [
        "num_classes_ner = 8\n",
        "bilstm_model_ner = BiLSTMNER(vocab_size,embedding_dim,hidden_size,num_layers,num_classes_ner)"
      ],
      "metadata": {
        "id": "HhGPDVvPlugS"
      },
      "execution_count": 8,
      "outputs": []
    },
    {
      "cell_type": "code",
      "source": [
        "train_data_ner = torch.randint(0,vocab_size,(128,30))\n",
        "train_label_ner = torch.randint(0,num_classes_ner,(128,30))"
      ],
      "metadata": {
        "id": "a8tegfIUmGHa"
      },
      "execution_count": 9,
      "outputs": []
    },
    {
      "cell_type": "code",
      "source": [
        "criterion_ner = nn.CrossEntropyLoss()\n",
        "optimizer_ner = torch.optim.Adam(bilstm_model_ner.parameters(),lr=0.01)"
      ],
      "metadata": {
        "id": "DBhhzrTWmjU3"
      },
      "execution_count": 10,
      "outputs": []
    },
    {
      "cell_type": "code",
      "source": [
        "for epoch in range(num_epochs):\n",
        "  optimizer_ner.zero_grad()\n",
        "  outputs = bilstm_model_ner(train_data_ner)\n",
        "  loss = criterion_ner(outputs.view(-1,num_classes_ner),train_label_ner.view(-1))\n",
        "  loss.backward()\n",
        "  optimizer_ner.step()\n",
        "  print(f\"Epoch: {epoch+1}/{num_epochs} Loss: {loss.item():.4f}\")"
      ],
      "metadata": {
        "colab": {
          "base_uri": "https://localhost:8080/"
        },
        "id": "eAYRHK8jm5DX",
        "outputId": "5f6dce01-26d9-4044-c9fe-adc48437539c"
      },
      "execution_count": 11,
      "outputs": [
        {
          "output_type": "stream",
          "name": "stdout",
          "text": [
            "Epoch: 1/10 Loss: 2.0819\n",
            "Epoch: 2/10 Loss: 2.0548\n",
            "Epoch: 3/10 Loss: 1.9962\n",
            "Epoch: 4/10 Loss: 1.8909\n",
            "Epoch: 5/10 Loss: 1.8177\n",
            "Epoch: 6/10 Loss: 1.7356\n",
            "Epoch: 7/10 Loss: 1.6151\n",
            "Epoch: 8/10 Loss: 1.5220\n",
            "Epoch: 9/10 Loss: 1.4181\n",
            "Epoch: 10/10 Loss: 1.2855\n"
          ]
        }
      ]
    },
    {
      "cell_type": "code",
      "source": [],
      "metadata": {
        "id": "ybhqx4z4njrG"
      },
      "execution_count": null,
      "outputs": []
    }
  ]
}